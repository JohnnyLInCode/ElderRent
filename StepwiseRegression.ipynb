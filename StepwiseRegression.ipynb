{
 "cells": [
  {
   "cell_type": "code",
   "execution_count": 1,
   "id": "c820ef0c-f6f5-4af4-b86e-e6e0348c4b66",
   "metadata": {
    "tags": []
   },
   "outputs": [],
   "source": [
    "from sklearn import preprocessing\n",
    "from sklearn.metrics import classification_report\n",
    "from sklearn.model_selection import StratifiedKFold, train_test_split\n",
    "from sklearn.metrics import accuracy_score, precision_score, recall_score, f1_score\n",
    "from imblearn.over_sampling import SMOTE\n",
    "import xgboost as xgb\n",
    "import pandas as pd\n",
    "import numpy as np\n",
    "import scipy.sparse\n",
    "import shap\n",
    "import matplotlib as plt\n",
    "from sklearn.model_selection import GridSearchCV\n",
    "from imblearn.over_sampling import BorderlineSMOTE\n",
    "import lime\n",
    "from lime import lime_tabular\n",
    "import statsmodels.api as sm\n",
    "# from easydl import clear_output\n",
    "import matplotlib.pyplot as plt\n",
    "from scipy.stats import levene\n",
    "from scipy.stats import f_oneway\n",
    "from scipy import stats\n",
    "import pingouin as pg\n",
    "import forestplot as fp\n",
    "# matplotlib.rcParams['axes.unicode_minus']=False\n",
    "#plt.rcParams['axes.unicode_minus']=False"
   ]
  },
  {
   "cell_type": "code",
   "execution_count": 2,
   "id": "a8fcd6e5-af23-4211-9b6a-063d9bd45864",
   "metadata": {},
   "outputs": [],
   "source": [
    "def stepwise_selection(X, y,\n",
    "                       initial_list=[],\n",
    "                       threshold_in=0.15,\n",
    "                       threshold_out=0.15,\n",
    "                       verbose=False):\n",
    "    included = list(initial_list)\n",
    "\n",
    "    while True:\n",
    "        changed = False\n",
    "        # 前向選擇\n",
    "        excluded = list(set(X.columns) - set(included))\n",
    "        new_pval = pd.Series(index=excluded, dtype=float)\n",
    "\n",
    "        for new_column in excluded:\n",
    "            try:\n",
    "                model = sm.Logit(y, sm.add_constant(pd.DataFrame(X[included + [new_column]]))).fit(disp=False)\n",
    "                new_pval[new_column] = model.pvalues[new_column]\n",
    "            except:\n",
    "                continue\n",
    "\n",
    "        best_pval = new_pval.min()\n",
    "        if best_pval < threshold_in:\n",
    "            best_feature = new_pval.idxmin()\n",
    "            included.append(best_feature)\n",
    "            changed = True\n",
    "            if verbose:\n",
    "                print('新增  {:30}，p-值為 {:.6}'.format(best_feature, best_pval))\n",
    "\n",
    "        # 反向選擇\n",
    "        model = sm.Logit(y, sm.add_constant(pd.DataFrame(X[included]))).fit(disp=False)\n",
    "        pvalues = model.pvalues.iloc[1:]  # 除去截距項\n",
    "        worst_pval = pvalues.max()\n",
    "\n",
    "        if worst_pval > threshold_out:\n",
    "            changed = True\n",
    "            worst_feature = pvalues.idxmax()  # 獲取p值最大的特徵名稱\n",
    "            included.remove(worst_feature)\n",
    "            if verbose:\n",
    "                print('移除 {:30}，p-值為 {:.6}'.format(worst_feature, worst_pval))\n",
    "\n",
    "        if not changed:\n",
    "            break\n",
    "    return included"
   ]
  },
  {
   "cell_type": "markdown",
   "id": "a72f2423-3596-4a5b-89a0-fe2dd06a0ada",
   "metadata": {
    "tags": []
   },
   "source": [
    "### large intestine Machine Learning"
   ]
  },
  {
   "cell_type": "code",
   "execution_count": 3,
   "id": "630c678b-53ae-492e-831c-10da616c1108",
   "metadata": {
    "tags": []
   },
   "outputs": [],
   "source": [
    "excel_file_path = 'data_clearned.xlsx'\n",
    "large_intestine_data = pd.read_excel(excel_file_path)"
   ]
  },
  {
   "cell_type": "code",
   "execution_count": 4,
   "id": "6af41cde-443a-4182-8646-1c2f3628aacd",
   "metadata": {
    "tags": []
   },
   "outputs": [
    {
     "name": "stdout",
     "output_type": "stream",
     "text": [
      "<class 'pandas.core.frame.DataFrame'>\n",
      "RangeIndex: 8598 entries, 0 to 8597\n",
      "Data columns (total 14 columns):\n",
      " #   Column         Non-Null Count  Dtype  \n",
      "---  ------         --------------  -----  \n",
      " 0   Unnamed: 0     8598 non-null   int64  \n",
      " 1   縣市             8598 non-null   object \n",
      " 2   簽約租金           8598 non-null   int64  \n",
      " 3   鄉鎮市區           8598 non-null   object \n",
      " 4   出租人年齡          8598 non-null   int64  \n",
      " 5   建物型態           8598 non-null   object \n",
      " 6   屋齡             8598 non-null   int64  \n",
      " 7   幾房             8598 non-null   int64  \n",
      " 8   實際使用坪數         8598 non-null   float64\n",
      " 9   是否為弱勢身分        8598 non-null   int64  \n",
      " 10  承租人年齡          8598 non-null   int64  \n",
      " 11  高齡者            8598 non-null   int64  \n",
      " 12  KMeans_生活型態分群  8598 non-null   int64  \n",
      " 13  是否電梯大樓         8598 non-null   int64  \n",
      "dtypes: float64(1), int64(10), object(3)\n",
      "memory usage: 940.5+ KB\n"
     ]
    }
   ],
   "source": [
    "large_intestine_data.info()"
   ]
  },
  {
   "cell_type": "code",
   "execution_count": 5,
   "id": "ae0c79d5-4987-43d8-ae61-fb45e42a0ebf",
   "metadata": {
    "tags": []
   },
   "outputs": [
    {
     "name": "stdout",
     "output_type": "stream",
     "text": [
      "<class 'pandas.core.frame.DataFrame'>\n",
      "RangeIndex: 8598 entries, 0 to 8597\n",
      "Data columns (total 8 columns):\n",
      " #   Column         Non-Null Count  Dtype  \n",
      "---  ------         --------------  -----  \n",
      " 0   簽約租金           8598 non-null   int64  \n",
      " 1   出租人年齡          8598 non-null   int64  \n",
      " 2   屋齡             8598 non-null   int64  \n",
      " 3   幾房             8598 non-null   int64  \n",
      " 4   實際使用坪數         8598 non-null   float64\n",
      " 5   高齡者            8598 non-null   int64  \n",
      " 6   KMeans_生活型態分群  8598 non-null   int64  \n",
      " 7   是否電梯大樓         8598 non-null   int64  \n",
      "dtypes: float64(1), int64(7)\n",
      "memory usage: 537.5 KB\n"
     ]
    }
   ],
   "source": [
    "# 排除「是否為弱勢身分」變數，原因如下：\n",
    "# 依據政策與實務判定，65歲以上高齡者在多數制度設計中已被視為弱勢族群，\n",
    "# 因此該變數與「高齡身分」高度重疊，易造成多重共線性，亦不利於模型解釋力。\n",
    "large_intestine_data.drop(['Unnamed: 0','縣市','鄉鎮市區','建物型態','承租人年齡','是否為弱勢身分'], axis=1, inplace=True)\n",
    "large_intestine_data.dropna(inplace=True)\n",
    "large_intestine_data.reset_index(drop=True, inplace=True)\n",
    "large_intestine_data.info()"
   ]
  },
  {
   "cell_type": "code",
   "execution_count": 6,
   "id": "1730ebfb-6a7c-4657-8529-7db305878353",
   "metadata": {},
   "outputs": [
    {
     "data": {
      "text/html": [
       "<div>\n",
       "<style scoped>\n",
       "    .dataframe tbody tr th:only-of-type {\n",
       "        vertical-align: middle;\n",
       "    }\n",
       "\n",
       "    .dataframe tbody tr th {\n",
       "        vertical-align: top;\n",
       "    }\n",
       "\n",
       "    .dataframe thead th {\n",
       "        text-align: right;\n",
       "    }\n",
       "</style>\n",
       "<table border=\"1\" class=\"dataframe\">\n",
       "  <thead>\n",
       "    <tr style=\"text-align: right;\">\n",
       "      <th></th>\n",
       "      <th>簽約租金</th>\n",
       "      <th>出租人年齡</th>\n",
       "      <th>屋齡</th>\n",
       "      <th>幾房</th>\n",
       "      <th>實際使用坪數</th>\n",
       "      <th>高齡者</th>\n",
       "      <th>KMeans_生活型態分群</th>\n",
       "      <th>是否電梯大樓</th>\n",
       "    </tr>\n",
       "  </thead>\n",
       "  <tbody>\n",
       "    <tr>\n",
       "      <th>0</th>\n",
       "      <td>20349</td>\n",
       "      <td>46</td>\n",
       "      <td>31</td>\n",
       "      <td>4</td>\n",
       "      <td>56.044175</td>\n",
       "      <td>0</td>\n",
       "      <td>2</td>\n",
       "      <td>0</td>\n",
       "    </tr>\n",
       "    <tr>\n",
       "      <th>1</th>\n",
       "      <td>20009</td>\n",
       "      <td>49</td>\n",
       "      <td>32</td>\n",
       "      <td>4</td>\n",
       "      <td>56.044175</td>\n",
       "      <td>0</td>\n",
       "      <td>2</td>\n",
       "      <td>0</td>\n",
       "    </tr>\n",
       "    <tr>\n",
       "      <th>2</th>\n",
       "      <td>19808</td>\n",
       "      <td>52</td>\n",
       "      <td>36</td>\n",
       "      <td>4</td>\n",
       "      <td>56.044175</td>\n",
       "      <td>0</td>\n",
       "      <td>2</td>\n",
       "      <td>0</td>\n",
       "    </tr>\n",
       "    <tr>\n",
       "      <th>3</th>\n",
       "      <td>7990</td>\n",
       "      <td>59</td>\n",
       "      <td>36</td>\n",
       "      <td>4</td>\n",
       "      <td>26.399175</td>\n",
       "      <td>1</td>\n",
       "      <td>2</td>\n",
       "      <td>0</td>\n",
       "    </tr>\n",
       "    <tr>\n",
       "      <th>4</th>\n",
       "      <td>9931</td>\n",
       "      <td>35</td>\n",
       "      <td>36</td>\n",
       "      <td>2</td>\n",
       "      <td>29.971700</td>\n",
       "      <td>0</td>\n",
       "      <td>2</td>\n",
       "      <td>0</td>\n",
       "    </tr>\n",
       "    <tr>\n",
       "      <th>...</th>\n",
       "      <td>...</td>\n",
       "      <td>...</td>\n",
       "      <td>...</td>\n",
       "      <td>...</td>\n",
       "      <td>...</td>\n",
       "      <td>...</td>\n",
       "      <td>...</td>\n",
       "      <td>...</td>\n",
       "    </tr>\n",
       "    <tr>\n",
       "      <th>8593</th>\n",
       "      <td>17960</td>\n",
       "      <td>47</td>\n",
       "      <td>29</td>\n",
       "      <td>2</td>\n",
       "      <td>35.177725</td>\n",
       "      <td>0</td>\n",
       "      <td>2</td>\n",
       "      <td>1</td>\n",
       "    </tr>\n",
       "    <tr>\n",
       "      <th>8594</th>\n",
       "      <td>13002</td>\n",
       "      <td>65</td>\n",
       "      <td>36</td>\n",
       "      <td>3</td>\n",
       "      <td>26.822675</td>\n",
       "      <td>0</td>\n",
       "      <td>2</td>\n",
       "      <td>0</td>\n",
       "    </tr>\n",
       "    <tr>\n",
       "      <th>8595</th>\n",
       "      <td>16001</td>\n",
       "      <td>49</td>\n",
       "      <td>15</td>\n",
       "      <td>1</td>\n",
       "      <td>21.223400</td>\n",
       "      <td>0</td>\n",
       "      <td>1</td>\n",
       "      <td>1</td>\n",
       "    </tr>\n",
       "    <tr>\n",
       "      <th>8596</th>\n",
       "      <td>17997</td>\n",
       "      <td>51</td>\n",
       "      <td>38</td>\n",
       "      <td>2</td>\n",
       "      <td>22.279125</td>\n",
       "      <td>0</td>\n",
       "      <td>2</td>\n",
       "      <td>0</td>\n",
       "    </tr>\n",
       "    <tr>\n",
       "      <th>8597</th>\n",
       "      <td>12001</td>\n",
       "      <td>55</td>\n",
       "      <td>31</td>\n",
       "      <td>3</td>\n",
       "      <td>37.809475</td>\n",
       "      <td>1</td>\n",
       "      <td>2</td>\n",
       "      <td>1</td>\n",
       "    </tr>\n",
       "  </tbody>\n",
       "</table>\n",
       "<p>8598 rows × 8 columns</p>\n",
       "</div>"
      ],
      "text/plain": [
       "       簽約租金  出租人年齡  屋齡  幾房     實際使用坪數  高齡者  KMeans_生活型態分群  是否電梯大樓\n",
       "0     20349     46  31   4  56.044175    0              2       0\n",
       "1     20009     49  32   4  56.044175    0              2       0\n",
       "2     19808     52  36   4  56.044175    0              2       0\n",
       "3      7990     59  36   4  26.399175    1              2       0\n",
       "4      9931     35  36   2  29.971700    0              2       0\n",
       "...     ...    ...  ..  ..        ...  ...            ...     ...\n",
       "8593  17960     47  29   2  35.177725    0              2       1\n",
       "8594  13002     65  36   3  26.822675    0              2       0\n",
       "8595  16001     49  15   1  21.223400    0              1       1\n",
       "8596  17997     51  38   2  22.279125    0              2       0\n",
       "8597  12001     55  31   3  37.809475    1              2       1\n",
       "\n",
       "[8598 rows x 8 columns]"
      ]
     },
     "execution_count": 6,
     "metadata": {},
     "output_type": "execute_result"
    }
   ],
   "source": [
    "large_intestine_data"
   ]
  },
  {
   "cell_type": "code",
   "execution_count": 7,
   "id": "8568cf15-f9e2-47fd-b6d3-77a100fa6d02",
   "metadata": {},
   "outputs": [
    {
     "name": "stdout",
     "output_type": "stream",
     "text": [
      "<class 'pandas.core.frame.DataFrame'>\n",
      "RangeIndex: 8598 entries, 0 to 8597\n",
      "Data columns (total 8 columns):\n",
      " #   Column         Non-Null Count  Dtype  \n",
      "---  ------         --------------  -----  \n",
      " 0   簽約租金           8598 non-null   int64  \n",
      " 1   出租人年齡          8598 non-null   int64  \n",
      " 2   屋齡             8598 non-null   int64  \n",
      " 3   幾房             8598 non-null   int64  \n",
      " 4   實際使用坪數         8598 non-null   float64\n",
      " 5   高齡者            8598 non-null   int64  \n",
      " 6   KMeans_生活型態分群  8598 non-null   int64  \n",
      " 7   是否電梯大樓         8598 non-null   int64  \n",
      "dtypes: float64(1), int64(7)\n",
      "memory usage: 537.5 KB\n"
     ]
    }
   ],
   "source": [
    "large_intestine_data.info()"
   ]
  },
  {
   "cell_type": "code",
   "execution_count": 8,
   "id": "2c3e221f-0a2f-40e9-8f07-2b68cd156456",
   "metadata": {},
   "outputs": [],
   "source": [
    "large_intestine_data1 = large_intestine_data.copy()"
   ]
  },
  {
   "cell_type": "code",
   "execution_count": 9,
   "id": "055e2053-1a88-48db-a208-0268bc5de870",
   "metadata": {},
   "outputs": [
    {
     "data": {
      "text/html": [
       "<div>\n",
       "<style scoped>\n",
       "    .dataframe tbody tr th:only-of-type {\n",
       "        vertical-align: middle;\n",
       "    }\n",
       "\n",
       "    .dataframe tbody tr th {\n",
       "        vertical-align: top;\n",
       "    }\n",
       "\n",
       "    .dataframe thead th {\n",
       "        text-align: right;\n",
       "    }\n",
       "</style>\n",
       "<table border=\"1\" class=\"dataframe\">\n",
       "  <thead>\n",
       "    <tr style=\"text-align: right;\">\n",
       "      <th></th>\n",
       "      <th>簽約租金</th>\n",
       "      <th>出租人年齡</th>\n",
       "      <th>屋齡</th>\n",
       "      <th>幾房</th>\n",
       "      <th>實際使用坪數</th>\n",
       "      <th>高齡者</th>\n",
       "      <th>KMeans_生活型態分群</th>\n",
       "      <th>是否電梯大樓</th>\n",
       "    </tr>\n",
       "  </thead>\n",
       "  <tbody>\n",
       "    <tr>\n",
       "      <th>0</th>\n",
       "      <td>20349</td>\n",
       "      <td>46</td>\n",
       "      <td>31</td>\n",
       "      <td>4</td>\n",
       "      <td>56.044175</td>\n",
       "      <td>0</td>\n",
       "      <td>2</td>\n",
       "      <td>0</td>\n",
       "    </tr>\n",
       "    <tr>\n",
       "      <th>1</th>\n",
       "      <td>20009</td>\n",
       "      <td>49</td>\n",
       "      <td>32</td>\n",
       "      <td>4</td>\n",
       "      <td>56.044175</td>\n",
       "      <td>0</td>\n",
       "      <td>2</td>\n",
       "      <td>0</td>\n",
       "    </tr>\n",
       "    <tr>\n",
       "      <th>2</th>\n",
       "      <td>19808</td>\n",
       "      <td>52</td>\n",
       "      <td>36</td>\n",
       "      <td>4</td>\n",
       "      <td>56.044175</td>\n",
       "      <td>0</td>\n",
       "      <td>2</td>\n",
       "      <td>0</td>\n",
       "    </tr>\n",
       "    <tr>\n",
       "      <th>3</th>\n",
       "      <td>7990</td>\n",
       "      <td>59</td>\n",
       "      <td>36</td>\n",
       "      <td>4</td>\n",
       "      <td>26.399175</td>\n",
       "      <td>1</td>\n",
       "      <td>2</td>\n",
       "      <td>0</td>\n",
       "    </tr>\n",
       "    <tr>\n",
       "      <th>4</th>\n",
       "      <td>9931</td>\n",
       "      <td>35</td>\n",
       "      <td>36</td>\n",
       "      <td>2</td>\n",
       "      <td>29.971700</td>\n",
       "      <td>0</td>\n",
       "      <td>2</td>\n",
       "      <td>0</td>\n",
       "    </tr>\n",
       "    <tr>\n",
       "      <th>...</th>\n",
       "      <td>...</td>\n",
       "      <td>...</td>\n",
       "      <td>...</td>\n",
       "      <td>...</td>\n",
       "      <td>...</td>\n",
       "      <td>...</td>\n",
       "      <td>...</td>\n",
       "      <td>...</td>\n",
       "    </tr>\n",
       "    <tr>\n",
       "      <th>8593</th>\n",
       "      <td>17960</td>\n",
       "      <td>47</td>\n",
       "      <td>29</td>\n",
       "      <td>2</td>\n",
       "      <td>35.177725</td>\n",
       "      <td>0</td>\n",
       "      <td>2</td>\n",
       "      <td>1</td>\n",
       "    </tr>\n",
       "    <tr>\n",
       "      <th>8594</th>\n",
       "      <td>13002</td>\n",
       "      <td>65</td>\n",
       "      <td>36</td>\n",
       "      <td>3</td>\n",
       "      <td>26.822675</td>\n",
       "      <td>0</td>\n",
       "      <td>2</td>\n",
       "      <td>0</td>\n",
       "    </tr>\n",
       "    <tr>\n",
       "      <th>8595</th>\n",
       "      <td>16001</td>\n",
       "      <td>49</td>\n",
       "      <td>15</td>\n",
       "      <td>1</td>\n",
       "      <td>21.223400</td>\n",
       "      <td>0</td>\n",
       "      <td>1</td>\n",
       "      <td>1</td>\n",
       "    </tr>\n",
       "    <tr>\n",
       "      <th>8596</th>\n",
       "      <td>17997</td>\n",
       "      <td>51</td>\n",
       "      <td>38</td>\n",
       "      <td>2</td>\n",
       "      <td>22.279125</td>\n",
       "      <td>0</td>\n",
       "      <td>2</td>\n",
       "      <td>0</td>\n",
       "    </tr>\n",
       "    <tr>\n",
       "      <th>8597</th>\n",
       "      <td>12001</td>\n",
       "      <td>55</td>\n",
       "      <td>31</td>\n",
       "      <td>3</td>\n",
       "      <td>37.809475</td>\n",
       "      <td>1</td>\n",
       "      <td>2</td>\n",
       "      <td>1</td>\n",
       "    </tr>\n",
       "  </tbody>\n",
       "</table>\n",
       "<p>8598 rows × 8 columns</p>\n",
       "</div>"
      ],
      "text/plain": [
       "       簽約租金  出租人年齡  屋齡  幾房     實際使用坪數  高齡者  KMeans_生活型態分群  是否電梯大樓\n",
       "0     20349     46  31   4  56.044175    0              2       0\n",
       "1     20009     49  32   4  56.044175    0              2       0\n",
       "2     19808     52  36   4  56.044175    0              2       0\n",
       "3      7990     59  36   4  26.399175    1              2       0\n",
       "4      9931     35  36   2  29.971700    0              2       0\n",
       "...     ...    ...  ..  ..        ...  ...            ...     ...\n",
       "8593  17960     47  29   2  35.177725    0              2       1\n",
       "8594  13002     65  36   3  26.822675    0              2       0\n",
       "8595  16001     49  15   1  21.223400    0              1       1\n",
       "8596  17997     51  38   2  22.279125    0              2       0\n",
       "8597  12001     55  31   3  37.809475    1              2       1\n",
       "\n",
       "[8598 rows x 8 columns]"
      ]
     },
     "execution_count": 9,
     "metadata": {},
     "output_type": "execute_result"
    }
   ],
   "source": [
    "large_intestine_data1"
   ]
  },
  {
   "cell_type": "code",
   "execution_count": 10,
   "id": "4f548c45-7a8b-4615-88a4-4d8979d0a2ef",
   "metadata": {},
   "outputs": [
    {
     "data": {
      "text/plain": [
       "高齡者\n",
       "0    8164\n",
       "1     434\n",
       "Name: count, dtype: int64"
      ]
     },
     "execution_count": 10,
     "metadata": {},
     "output_type": "execute_result"
    }
   ],
   "source": [
    "large_intestine_data1['高齡者'].value_counts()"
   ]
  },
  {
   "cell_type": "code",
   "execution_count": 11,
   "id": "8814d715-c000-4943-a2cd-fa3629a7d8fe",
   "metadata": {},
   "outputs": [
    {
     "data": {
      "text/plain": [
       "Index(['簽約租金', '出租人年齡', '屋齡', '幾房', '實際使用坪數', '高齡者', 'KMeans_生活型態分群',\n",
       "       '是否電梯大樓'],\n",
       "      dtype='object')"
      ]
     },
     "execution_count": 11,
     "metadata": {},
     "output_type": "execute_result"
    }
   ],
   "source": [
    "large_intestine_data1.columns"
   ]
  },
  {
   "cell_type": "markdown",
   "id": "40709459-7ea6-4e0e-bca3-70ef9fe6aa39",
   "metadata": {
    "tags": []
   },
   "source": [
    "#### adenomatous"
   ]
  },
  {
   "cell_type": "code",
   "execution_count": 12,
   "id": "137fa747-7011-4841-9307-9313b22aa251",
   "metadata": {
    "tags": []
   },
   "outputs": [],
   "source": [
    "X = large_intestine_data1.drop(labels=['高齡者'], axis=1)\n",
    "y = large_intestine_data1['高齡者']"
   ]
  },
  {
   "cell_type": "code",
   "execution_count": 13,
   "id": "5d8730fd-d5d3-4940-b3e8-a27046ea423d",
   "metadata": {},
   "outputs": [
    {
     "data": {
      "text/plain": [
       "Index(['簽約租金', '出租人年齡', '屋齡', '幾房', '實際使用坪數', 'KMeans_生活型態分群', '是否電梯大樓'], dtype='object')"
      ]
     },
     "execution_count": 13,
     "metadata": {},
     "output_type": "execute_result"
    }
   ],
   "source": [
    "X.columns"
   ]
  },
  {
   "cell_type": "code",
   "execution_count": 14,
   "id": "101be529-2df5-4820-9775-3f3a24f57927",
   "metadata": {},
   "outputs": [
    {
     "name": "stdout",
     "output_type": "stream",
     "text": [
      "<class 'pandas.core.frame.DataFrame'>\n",
      "RangeIndex: 8598 entries, 0 to 8597\n",
      "Data columns (total 7 columns):\n",
      " #   Column         Non-Null Count  Dtype  \n",
      "---  ------         --------------  -----  \n",
      " 0   簽約租金           8598 non-null   int64  \n",
      " 1   出租人年齡          8598 non-null   int64  \n",
      " 2   屋齡             8598 non-null   int64  \n",
      " 3   幾房             8598 non-null   int64  \n",
      " 4   實際使用坪數         8598 non-null   float64\n",
      " 5   KMeans_生活型態分群  8598 non-null   int64  \n",
      " 6   是否電梯大樓         8598 non-null   int64  \n",
      "dtypes: float64(1), int64(6)\n",
      "memory usage: 470.3 KB\n"
     ]
    }
   ],
   "source": [
    "X.info()"
   ]
  },
  {
   "cell_type": "code",
   "execution_count": 15,
   "id": "84dbc65d-d0b2-4e92-85e8-256a5907812a",
   "metadata": {},
   "outputs": [
    {
     "name": "stdout",
     "output_type": "stream",
     "text": [
      "Optimization terminated successfully    (Exit mode 0)\n",
      "            Current function value: 0.19648659179827158\n",
      "            Iterations: 44\n",
      "            Function evaluations: 55\n",
      "            Gradient evaluations: 44\n",
      "                           Logit Regression Results                           \n",
      "==============================================================================\n",
      "Dep. Variable:                    高齡者   No. Observations:                 8598\n",
      "Model:                          Logit   Df Residuals:                     8590\n",
      "Method:                           MLE   Df Model:                            7\n",
      "Date:                Fri, 17 Oct 2025   Pseudo R-squ.:                 0.01716\n",
      "Time:                        13:23:35   Log-Likelihood:                -1689.4\n",
      "converged:                       True   LL-Null:                       -1718.9\n",
      "Covariance Type:            nonrobust   LLR p-value:                 2.403e-10\n",
      "=================================================================================\n",
      "                    coef    std err          z      P>|z|      [0.025      0.975]\n",
      "---------------------------------------------------------------------------------\n",
      "const            -4.8536      0.459    -10.577      0.000      -5.753      -3.954\n",
      "簽約租金          -3.754e-05   1.46e-05     -2.571      0.010   -6.61e-05   -8.92e-06\n",
      "出租人年齡             0.0139      0.005      2.597      0.009       0.003       0.024\n",
      "屋齡                0.0177      0.007      2.367      0.018       0.003       0.032\n",
      "幾房               -0.1267      0.068     -1.875      0.061      -0.259       0.006\n",
      "實際使用坪數            0.0265      0.005      5.290      0.000       0.017       0.036\n",
      "KMeans_生活型態分群     0.3263      0.129      2.524      0.012       0.073       0.580\n",
      "是否電梯大樓            0.1632      0.132      1.234      0.217      -0.096       0.422\n",
      "=================================================================================\n",
      "--------------------------------------------------------------------------------\n"
     ]
    }
   ],
   "source": [
    "X = sm.add_constant(X)\n",
    "\n",
    "model = sm.Logit(y,X).fit_regularized(method='l1', maxiter=500)\n",
    "    \n",
    "summary = model.summary()\n",
    "#view model summary\n",
    "print(model.summary())\n",
    "print('-'*80)"
   ]
  },
  {
   "cell_type": "code",
   "execution_count": 16,
   "id": "dc63711a-47dd-413e-808d-921663739808",
   "metadata": {},
   "outputs": [
    {
     "name": "stdout",
     "output_type": "stream",
     "text": [
      "Optimization terminated successfully.\n",
      "         Current function value: 0.196576\n",
      "         Iterations 7\n",
      "                           Logit Regression Results                           \n",
      "==============================================================================\n",
      "Dep. Variable:                    高齡者   No. Observations:                 8598\n",
      "Model:                          Logit   Df Residuals:                     8591\n",
      "Method:                           MLE   Df Model:                            6\n",
      "Date:                Fri, 17 Oct 2025   Pseudo R-squ.:                 0.01671\n",
      "Time:                        13:23:36   Log-Likelihood:                -1690.2\n",
      "converged:                       True   LL-Null:                       -1718.9\n",
      "Covariance Type:            nonrobust   LLR p-value:                 1.477e-10\n",
      "=================================================================================\n",
      "                    coef    std err          z      P>|z|      [0.025      0.975]\n",
      "---------------------------------------------------------------------------------\n",
      "const            -4.6142      0.415    -11.116      0.000      -5.428      -3.801\n",
      "出租人年齡             0.0140      0.005      2.614      0.009       0.004       0.025\n",
      "屋齡                0.0130      0.006      2.030      0.042       0.000       0.026\n",
      "實際使用坪數            0.0262      0.005      5.245      0.000       0.016       0.036\n",
      "幾房               -0.1421      0.067     -2.135      0.033      -0.272      -0.012\n",
      "KMeans_生活型態分群     0.3571      0.127      2.815      0.005       0.108       0.606\n",
      "簽約租金          -3.815e-05   1.46e-05     -2.621      0.009   -6.67e-05   -9.63e-06\n",
      "=================================================================================\n",
      "AUC: 0.6051\n"
     ]
    }
   ],
   "source": [
    "result = stepwise_selection(X, y)\n",
    "# clear_output()\n",
    "X_selected = X[result]\n",
    "X_selected = sm.add_constant(X_selected)\n",
    "model = sm.Logit(y, X_selected).fit()\n",
    "\n",
    "summary = model.summary()\n",
    "# 查看模型摘要\n",
    "print(summary)\n",
    "\n",
    "# 計算 AUC\n",
    "from sklearn.metrics import roc_auc_score\n",
    "y_pred_prob = model.predict(X_selected)\n",
    "auc = roc_auc_score(y, y_pred_prob)\n",
    "print(f\"AUC: {auc:.4f}\")"
   ]
  },
  {
   "cell_type": "code",
   "execution_count": 17,
   "id": "61d8f7f5-4bba-4d1c-9c93-c3e7f30a488f",
   "metadata": {},
   "outputs": [
    {
     "name": "stdout",
     "output_type": "stream",
     "text": [
      "                    Variable  Coefficient\n",
      "KMeans_生活型態分群  KMeans_生活型態分群     0.357121\n",
      "實際使用坪數                實際使用坪數     0.026194\n",
      "出租人年齡                  出租人年齡     0.014019\n",
      "屋齡                        屋齡     0.013016\n",
      "簽約租金                    簽約租金    -0.000038\n",
      "幾房                        幾房    -0.142051\n",
      "const                  const    -4.614222\n"
     ]
    }
   ],
   "source": [
    "# 顯示自變量和對應的係數\n",
    "coef_df = pd.DataFrame({\n",
    "    'Variable': X_selected.columns,\n",
    "    'Coefficient': model.params\n",
    "})\n",
    "coef_df = coef_df.sort_values(by = 'Coefficient',ascending=False)\n",
    "print(coef_df)"
   ]
  },
  {
   "cell_type": "code",
   "execution_count": 18,
   "id": "8e641d59-7be4-444c-9536-0661789996e0",
   "metadata": {},
   "outputs": [],
   "source": [
    "coef_df = coef_df[:-1]"
   ]
  },
  {
   "cell_type": "code",
   "execution_count": 19,
   "id": "70db4021-a983-41a6-a621-033e83a08f62",
   "metadata": {},
   "outputs": [],
   "source": [
    "import urllib.request\n",
    "\n",
    "# 思源黑體 TTF 字體（繁體中文）\n",
    "url = 'https://github.com/adobe-fonts/source-han-sans/raw/release/OTF/TraditionalChinese/SourceHanSansTC-Regular.otf'\n",
    "font_path = 'SourceHanSansTC-Regular.otf'\n",
    "\n",
    "urllib.request.urlretrieve(url, font_path)\n",
    "import matplotlib.pyplot as plt\n",
    "import matplotlib.font_manager as fm\n",
    "font_prop = fm.FontProperties(fname='SourceHanSansTC-Regular.otf')"
   ]
  },
  {
   "cell_type": "code",
   "execution_count": 20,
   "id": "8e057946-3730-4295-987f-ce703cf9e9df",
   "metadata": {},
   "outputs": [
    {
     "data": {
      "image/png": "[encoded data removed]",
      "text/plain": [
       "<Figure size 720x432 with 1 Axes>"
      ]
     },
     "metadata": {
      "needs_background": "light"
     },
     "output_type": "display_data"
    }
   ],
   "source": [
    "variables = coef_df['Variable']\n",
    "coefficients = coef_df['Coefficient']\n",
    "\n",
    "# 載入剛剛下載的字體\n",
    "font_prop = fm.FontProperties(fname='SourceHanSansTC-Regular.otf')\n",
    "plt.figure(figsize=(10, 6))\n",
    "plt.plot(variables, coefficients, marker='o', linestyle='-', color='b')\n",
    "plt.xlabel('Variable', fontproperties=font_prop, fontsize=12)\n",
    "plt.ylabel('Coefficient', fontproperties=font_prop)\n",
    "plt.title('Variable and Coefficient')\n",
    "plt.xticks(rotation=45, fontproperties=font_prop, fontsize=12)\n",
    "plt.show()"
   ]
  },
  {
   "cell_type": "code",
   "execution_count": 21,
   "id": "0d50cb57-c571-4681-a2c4-1a10e2b4c395",
   "metadata": {},
   "outputs": [
    {
     "name": "stdout",
     "output_type": "stream",
     "text": [
      "                    Variable     Coef  Odds_Ratio  OR_lower_95CI  \\\n",
      "const                  const -4.61422     0.00991        0.00439   \n",
      "出租人年齡                  出租人年齡  0.01402     1.01412        1.00351   \n",
      "屋齡                        屋齡  0.01302     1.01310        1.00045   \n",
      "實際使用坪數                實際使用坪數  0.02619     1.02654        1.01654   \n",
      "幾房                        幾房 -0.14205     0.86758        0.76152   \n",
      "KMeans_生活型態分群  KMeans_生活型態分群  0.35712     1.42921        1.11454   \n",
      "簽約租金                    簽約租金 -0.00004     0.99996        0.99993   \n",
      "\n",
      "               OR_upper_95CI  p_value  \n",
      "const                0.02236  0.00000  \n",
      "出租人年齡                1.02483  0.00895  \n",
      "屋齡                   1.02591  0.04236  \n",
      "實際使用坪數               1.03664  0.00000  \n",
      "幾房                   0.98841  0.03275  \n",
      "KMeans_生活型態分群        1.83272  0.00488  \n",
      "簽約租金                 0.99999  0.00875  \n"
     ]
    }
   ],
   "source": [
    "import numpy as np\n",
    "import pandas as pd\n",
    "\n",
    "# 取得係數與標準誤\n",
    "params = model.params\n",
    "conf = model.conf_int()  # 信賴區間\n",
    "conf['OR_lower'] = np.exp(conf[0])\n",
    "conf['OR_upper'] = np.exp(conf[1])\n",
    "\n",
    "# Odds Ratio\n",
    "odds_ratios = np.exp(params)\n",
    "\n",
    "# 合併成表格\n",
    "summary_table = pd.DataFrame({\n",
    "    'Variable': params.index,\n",
    "    'Coef': params.values,\n",
    "    'Odds_Ratio': odds_ratios,\n",
    "    'OR_lower_95CI': conf['OR_lower'],\n",
    "    'OR_upper_95CI': conf['OR_upper'],\n",
    "    'p_value': model.pvalues\n",
    "})\n",
    "\n",
    "# 輸出結果\n",
    "pd.set_option('display.float_format', '{:.5f}'.format)\n",
    "print(summary_table)\n"
   ]
  },
  {
   "cell_type": "code",
   "execution_count": 22,
   "id": "bdd23701-0c20-4cdb-9210-ce5666db5b1b",
   "metadata": {},
   "outputs": [],
   "source": [
    "#轉存excel\n",
    "file_name = \"Odd_Ratio.xlsx\"\n",
    "# saving the excelsheet\n",
    "summary_table.to_excel(file_name)"
   ]
  },
  {
   "cell_type": "markdown",
   "id": "3cda5a4f-8012-4ded-a5a3-f85ebf1d0c53",
   "metadata": {},
   "source": [
    "### probability"
   ]
  },
  {
   "cell_type": "code",
   "execution_count": 23,
   "id": "05257a80-d753-4b7a-8212-d53baaebc396",
   "metadata": {},
   "outputs": [
    {
     "ename": "NameError",
     "evalue": "name 'df_with_dummies' is not defined",
     "output_type": "error",
     "traceback": [
      "\u001b[0;31m---------------------------------------------------------------------------\u001b[0m",
      "\u001b[0;31mNameError\u001b[0m                                 Traceback (most recent call last)",
      "Cell \u001b[0;32mIn[23], line 2\u001b[0m\n\u001b[1;32m      1\u001b[0m \u001b[38;5;66;03m#A = list(df_with_dummies[df_with_dummies['calculate'] == 0]['probabilities'].values)\u001b[39;00m\n\u001b[0;32m----> 2\u001b[0m B \u001b[38;5;241m=\u001b[39m \u001b[38;5;28mlist\u001b[39m(\u001b[43mdf_with_dummies\u001b[49m[df_with_dummies[\u001b[38;5;124m'\u001b[39m\u001b[38;5;124mcalculate\u001b[39m\u001b[38;5;124m'\u001b[39m] \u001b[38;5;241m==\u001b[39m \u001b[38;5;241m0.5\u001b[39m][\u001b[38;5;124m'\u001b[39m\u001b[38;5;124mprobabilities\u001b[39m\u001b[38;5;124m'\u001b[39m]\u001b[38;5;241m.\u001b[39mvalues)\n\u001b[1;32m      3\u001b[0m C \u001b[38;5;241m=\u001b[39m \u001b[38;5;28mlist\u001b[39m(df_with_dummies[df_with_dummies[\u001b[38;5;124m'\u001b[39m\u001b[38;5;124mcalculate\u001b[39m\u001b[38;5;124m'\u001b[39m] \u001b[38;5;241m==\u001b[39m \u001b[38;5;241m1\u001b[39m][\u001b[38;5;124m'\u001b[39m\u001b[38;5;124mprobabilities\u001b[39m\u001b[38;5;124m'\u001b[39m]\u001b[38;5;241m.\u001b[39mvalues)\n\u001b[1;32m      4\u001b[0m D \u001b[38;5;241m=\u001b[39m \u001b[38;5;28mlist\u001b[39m(df_with_dummies[df_with_dummies[\u001b[38;5;124m'\u001b[39m\u001b[38;5;124mcalculate\u001b[39m\u001b[38;5;124m'\u001b[39m] \u001b[38;5;241m==\u001b[39m \u001b[38;5;241m1.5\u001b[39m][\u001b[38;5;124m'\u001b[39m\u001b[38;5;124mprobabilities\u001b[39m\u001b[38;5;124m'\u001b[39m]\u001b[38;5;241m.\u001b[39mvalues)\n",
      "\u001b[0;31mNameError\u001b[0m: name 'df_with_dummies' is not defined"
     ]
    }
   ],
   "source": [
    "#A = list(df_with_dummies[df_with_dummies['calculate'] == 0]['probabilities'].values)\n",
    "B = list(df_with_dummies[df_with_dummies['calculate'] == 0.5]['probabilities'].values)\n",
    "C = list(df_with_dummies[df_with_dummies['calculate'] == 1]['probabilities'].values)\n",
    "D = list(df_with_dummies[df_with_dummies['calculate'] == 1.5]['probabilities'].values)\n",
    "E = list(df_with_dummies[df_with_dummies['calculate'] == 2]['probabilities'].values)\n",
    "F = list(df_with_dummies[df_with_dummies['calculate'] == 2.5]['probabilities'].values)\n",
    "G = list(df_with_dummies[df_with_dummies['calculate'] == 3]['probabilities'].values)\n",
    "H = list(df_with_dummies[df_with_dummies['calculate'] == 3.5]['probabilities'].values)"
   ]
  },
  {
   "cell_type": "code",
   "execution_count": null,
   "id": "2b1826c1-a500-4f99-b398-1b33489fadec",
   "metadata": {},
   "outputs": [],
   "source": [
    "statistic, p_value=levene( B, C, D, E, F, G, H)\n",
    "print('statistic:%.2f'%statistic)\n",
    "print('p_value:%.2f'%p_value)"
   ]
  },
  {
   "cell_type": "code",
   "execution_count": null,
   "id": "887cb285-a8e5-4ec2-b0c5-d14cc6eb52d0",
   "metadata": {},
   "outputs": [],
   "source": [
    "f_statistic, p_value = f_oneway(A, B, C, D, E, F, G, H)\n",
    "print(\"f_statistic:%.2f\"%f_statistic)\n",
    "print(\"p_value:%.2f\"%p_value)"
   ]
  },
  {
   "cell_type": "code",
   "execution_count": null,
   "id": "cb61f110-2921-4e3c-80f1-0d205b25526b",
   "metadata": {},
   "outputs": [],
   "source": [
    "posthoc = stats.tukey_hsd(A, B, C, D, E, F, G, H)\n",
    "print(posthoc)"
   ]
  },
  {
   "cell_type": "markdown",
   "id": "51f84438-5e4b-408b-8329-acd900b84437",
   "metadata": {},
   "source": [
    "### odds ratio"
   ]
  },
  {
   "cell_type": "code",
   "execution_count": null,
   "id": "13d5e274-8dad-4570-839c-bb7c80232d7a",
   "metadata": {},
   "outputs": [],
   "source": [
    "A = list(df_with_dummies[df_with_dummies['calculate'] == 0]['odds ratio'].values)\n",
    "B = list(df_with_dummies[df_with_dummies['calculate'] == 0.5]['odds ratio'].values)\n",
    "C = list(df_with_dummies[df_with_dummies['calculate'] == 1]['odds ratio'].values)\n",
    "D = list(df_with_dummies[df_with_dummies['calculate'] == 1.5]['odds ratio'].values)\n",
    "E = list(df_with_dummies[df_with_dummies['calculate'] == 2]['odds ratio'].values)\n",
    "F = list(df_with_dummies[df_with_dummies['calculate'] == 2.5]['odds ratio'].values)\n",
    "G = list(df_with_dummies[df_with_dummies['calculate'] == 3]['odds ratio'].values)\n",
    "H = list(df_with_dummies[df_with_dummies['calculate'] == 3.5]['odds ratio'].values)"
   ]
  },
  {
   "cell_type": "code",
   "execution_count": null,
   "id": "7c5b4257-8f3c-4a59-9635-de2f67f8384d",
   "metadata": {},
   "outputs": [],
   "source": [
    "statistic, p_value=levene(A, B, C, D, E, F, G, H)\n",
    "print('statistic:%.2f'%statistic)\n",
    "print('p_value:%.2f'%p_value)"
   ]
  },
  {
   "cell_type": "code",
   "execution_count": null,
   "id": "90c59612-ba22-4f2e-9ca5-70f54d7ca256",
   "metadata": {},
   "outputs": [],
   "source": [
    "f_statistic, p_value = f_oneway(A, B, C, D, E, F, G, H)\n",
    "print(\"f_statistic:%.2f\"%f_statistic)\n",
    "print(\"p_value:%.2f\"%p_value)"
   ]
  },
  {
   "cell_type": "code",
   "execution_count": null,
   "id": "9296a0b9-7075-4cf3-ba0a-04f56b501828",
   "metadata": {},
   "outputs": [],
   "source": [
    "posthoc = stats.tukey_hsd(A, B, C, D, E, F, G, H)\n",
    "print(posthoc)"
   ]
  },
  {
   "cell_type": "code",
   "execution_count": null,
   "id": "275241ac-d395-4ac5-8598-88bbe2995bec",
   "metadata": {},
   "outputs": [],
   "source": [
    "A = list(df_with_dummies[df_with_dummies['group'] == 0]['probabilities'].values)\n",
    "B = list(df_with_dummies[df_with_dummies['group'] == 1]['probabilities'].values)\n",
    "C = list(df_with_dummies[df_with_dummies['group'] == 2]['probabilities'].values)"
   ]
  },
  {
   "cell_type": "code",
   "execution_count": null,
   "id": "f6f83701-c585-4eeb-b641-4aa7965b505e",
   "metadata": {},
   "outputs": [],
   "source": [
    "statistic, p_value = levene(A, B, C)\n",
    "print('statistic:%.2f'%statistic)\n",
    "print('p_value:%.2f'%p_value)"
   ]
  },
  {
   "cell_type": "code",
   "execution_count": null,
   "id": "88f8be38-c51a-48d8-bd9f-a8fbd742eef8",
   "metadata": {},
   "outputs": [],
   "source": [
    "scores = A + B + C\n",
    "groups = ['A'] * len(A) + ['B'] * len(B) + ['C'] * len(C)\n",
    "\n",
    "data = pd.DataFrame({'組別': groups, '分數': scores})\n",
    "pg.welch_anova(dv='分數', between='組別', data=data)"
   ]
  },
  {
   "cell_type": "code",
   "execution_count": null,
   "id": "4e1aff39-ea14-4197-80e8-b45c84dbd33b",
   "metadata": {},
   "outputs": [],
   "source": [
    "results = pg.pairwise_gameshowell(dv='分數', between='組別', data=data)\n",
    "results"
   ]
  },
  {
   "cell_type": "code",
   "execution_count": null,
   "id": "b26fad77-277d-41e1-bd5d-50130b781653",
   "metadata": {},
   "outputs": [],
   "source": [
    "# filtered_df = pg.pairwise_gameshowell(dv='分數', between='組別', data=data)\n",
    "# 計算95%區間\n",
    "results['CI Low'] = results['diff'] - 1.96 * results['se']\n",
    "results['CI High'] = results['diff'] + 1.96 * results['se']\n",
    "\n",
    "# 均值差異\n",
    "comparisons = results['A'] + ' - ' + results['B']\n",
    "mean_diff = results['diff']\n",
    "ci_low = results['CI Low']\n",
    "ci_high = results['CI High']"
   ]
  },
  {
   "cell_type": "code",
   "execution_count": null,
   "id": "12a2e767-8e95-47d5-ba5d-cffa990e8e77",
   "metadata": {},
   "outputs": [],
   "source": [
    "plt.figure(figsize=(8, 6))\n",
    "\n",
    "# 先繪製折線圖並連線\n",
    "plt.plot(comparisons, mean_diff, marker='o', linestyle='-', color='blue', label='Mean Difference')\n",
    "\n",
    "# 再繪製誤差區間\n",
    "plt.errorbar(comparisons, mean_diff, yerr=[mean_diff - ci_low, ci_high - mean_diff], fmt='o', color='blue', ecolor='blue', capsize=5)\n",
    "\n",
    "plt.xticks(rotation=45, ha='right')  # 設置X軸旋轉 旋轉45度\n",
    "plt.ylabel('Mean Difference')\n",
    "plt.xlabel('Comparisons')\n",
    "plt.title('Differences of Means for Strength')\n",
    "\n",
    "plt.tight_layout()\n",
    "plt.savefig('Differences of Means(probabilities).png', dpi=300, bbox_inches='tight')\n",
    "plt.show()"
   ]
  },
  {
   "cell_type": "code",
   "execution_count": null,
   "id": "2ec19f33-4ad7-4c70-9d99-ce3feecc78a9",
   "metadata": {},
   "outputs": [],
   "source": [
    "filtered_df = results[\n",
    "    ((results['A'] == 'A') & (results['B'] == 'B')) |\n",
    "    ((results['A'] == 'A') & (results['B'] == 'C')) |\n",
    "    ((results['A'] == 'B') & (results['B'] == 'C'))]\n",
    "filtered_df = filtered_df.sort_values(by='diff', ascending=True)"
   ]
  },
  {
   "cell_type": "code",
   "execution_count": null,
   "id": "990bf870-ff10-467a-8ac7-e43f3dabfb6f",
   "metadata": {},
   "outputs": [],
   "source": [
    "filtered_df['diff'] = filtered_df['diff'].abs()"
   ]
  },
  {
   "cell_type": "code",
   "execution_count": null,
   "id": "8a21a1e1-2640-450f-be64-cdaa46c5d2a7",
   "metadata": {},
   "outputs": [],
   "source": [
    "filtered_df = filtered_df.sort_values(by='diff', ascending=True)"
   ]
  },
  {
   "cell_type": "code",
   "execution_count": null,
   "id": "d66c0c1c-2567-4d60-ba0a-9fc6fed996db",
   "metadata": {},
   "outputs": [],
   "source": [
    "# filtered_df = pg.pairwise_gameshowell(dv='分數', between='組別', data=data)\n",
    "# 計算95%區間\n",
    "filtered_df['CI Low'] = filtered_df['diff'] - 1.96 * results['se']\n",
    "filtered_df['CI High'] = filtered_df['diff'] + 1.96 * results['se']\n",
    "\n",
    "# 均值差異\n",
    "comparisons = filtered_df['A'] + ' - ' + filtered_df['B']\n",
    "mean_diff = filtered_df['diff']\n",
    "ci_low = filtered_df['CI Low']\n",
    "ci_high = filtered_df['CI High']"
   ]
  },
  {
   "cell_type": "code",
   "execution_count": null,
   "id": "6bcdf149-fd2a-4a50-abbd-8fa1e63a2823",
   "metadata": {},
   "outputs": [],
   "source": [
    "plt.figure(figsize=(8, 6))\n",
    "\n",
    "# 先繪製折線圖並連線\n",
    "plt.plot(comparisons, mean_diff, marker='o', linestyle='-', color='blue', label='Mean Difference')\n",
    "\n",
    "# 再繪製誤差區間\n",
    "plt.errorbar(comparisons, mean_diff, yerr=[mean_diff - ci_low, ci_high - mean_diff], fmt='o', color='blue', ecolor='blue', capsize=5)\n",
    "\n",
    "plt.xticks(rotation=45, ha='right')  # 設置X軸旋轉 旋轉45度\n",
    "plt.ylabel('Mean Difference')\n",
    "plt.xlabel('Comparisons')\n",
    "plt.title('Differences of Means for Strength')\n",
    "\n",
    "plt.tight_layout()\n",
    "plt.savefig('Differences of Means(probabilities).png', dpi=300, bbox_inches='tight')\n",
    "plt.show()"
   ]
  },
  {
   "cell_type": "code",
   "execution_count": null,
   "id": "e444213c-cca0-4ddf-bde2-2b31cccd62f5",
   "metadata": {},
   "outputs": [],
   "source": [
    "# A = list(df_with_dummies[df_with_dummies['calculate'] == 0]['odds ratio'].values)\n",
    "B = list(df_with_dummies[df_with_dummies['calculate'] == 0.5]['odds ratio'].values)\n",
    "C = list(df_with_dummies[df_with_dummies['calculate'] == 1]['odds ratio'].values)\n",
    "D = list(df_with_dummies[df_with_dummies['calculate'] == 1.5]['odds ratio'].values)\n",
    "E = list(df_with_dummies[df_with_dummies['calculate'] == 2]['odds ratio'].values)\n",
    "F = list(df_with_dummies[df_with_dummies['calculate'] == 2.5]['odds ratio'].values)\n",
    "G = list(df_with_dummies[df_with_dummies['calculate'] == 3]['odds ratio'].values)\n",
    "H = list(df_with_dummies[df_with_dummies['calculate'] == 3.5]['odds ratio'].values)"
   ]
  },
  {
   "cell_type": "code",
   "execution_count": null,
   "id": "7d0537f8-9558-4b5a-8234-1821fff05641",
   "metadata": {},
   "outputs": [],
   "source": [
    "statistic, p_value = levene(B, C, D, E, F, G, H)\n",
    "print('statistic:%.2f'%statistic)\n",
    "print('p_value:%.2f'%p_value)"
   ]
  },
  {
   "cell_type": "code",
   "execution_count": null,
   "id": "060af57c-cfe4-42d2-9e1d-390a535c57e5",
   "metadata": {},
   "outputs": [],
   "source": [
    "scores = B + C + D + E + F + G + H\n",
    "groups = ['B'] * len(B) + ['C'] * len(C) + ['D'] * len(D) + ['E'] * len(E) + ['F'] * len(F) + ['G'] * len(G) + ['H'] * len(H)  # 创建对应的班级标签\n",
    "\n",
    "data = pd.DataFrame({'組別': groups, '分數': scores})\n",
    "pg.welch_anova(dv='分數', between='組別', data=data)"
   ]
  },
  {
   "cell_type": "code",
   "execution_count": null,
   "id": "80cd2c55-3584-42a0-ab2e-02799de4daf4",
   "metadata": {},
   "outputs": [],
   "source": [
    "results = pg.pairwise_gameshowell(dv='分數', between='組別', data=data)\n",
    "results"
   ]
  },
  {
   "cell_type": "code",
   "execution_count": null,
   "id": "1dbfc778-8993-4874-a051-60d3c4708908",
   "metadata": {},
   "outputs": [],
   "source": [
    "filtered_df = results[\n",
    "    ((results['A'] == 'B') & (results['B'] == 'C')) |\n",
    "    ((results['A'] == 'C') & (results['B'] == 'D')) |\n",
    "    ((results['A'] == 'D') & (results['B'] == 'E')) |\n",
    "    ((results['A'] == 'E') & (results['B'] == 'F')) |\n",
    "    ((results['A'] == 'F') & (results['B'] == 'G')) |\n",
    "    ((results['A'] == 'G') & (results['B'] == 'H'))\n",
    "]\n",
    "filtered_df = filtered_df.sort_values(by='diff', ascending=True)"
   ]
  },
  {
   "cell_type": "code",
   "execution_count": null,
   "id": "0fcc4e28-02e4-4f46-90d4-07caba58e1fc",
   "metadata": {},
   "outputs": [],
   "source": [
    "filtered_df"
   ]
  },
  {
   "cell_type": "code",
   "execution_count": null,
   "id": "7b67f547-d158-47f9-a379-1b2ed16ad116",
   "metadata": {},
   "outputs": [],
   "source": [
    "# filtered_df = pg.pairwise_gameshowell(dv='分數', between='組別', data=data)\n",
    "# 計算95%區間\n",
    "filtered_df['CI Low'] = filtered_df['diff'] - 1.96 * results['se']\n",
    "filtered_df['CI High'] = filtered_df['diff'] + 1.96 * results['se']\n",
    "\n",
    "# 均值差異\n",
    "comparisons = filtered_df['A'] + ' - ' + filtered_df['B']\n",
    "mean_diff = filtered_df['diff']\n",
    "ci_low = filtered_df['CI Low']\n",
    "ci_high = filtered_df['CI High']"
   ]
  },
  {
   "cell_type": "code",
   "execution_count": null,
   "id": "86fd2b39-8da9-488f-bfe2-1199c0f250fa",
   "metadata": {},
   "outputs": [],
   "source": [
    "plt.figure(figsize=(8, 6))\n",
    "\n",
    "# 先繪製折線圖並連線\n",
    "plt.plot(comparisons, mean_diff, marker='o', linestyle='-', color='blue', label='Mean Difference')\n",
    "\n",
    "# 再繪製誤差區間\n",
    "plt.errorbar(comparisons, mean_diff, yerr=[mean_diff - ci_low, ci_high - mean_diff], fmt='o', color='blue', ecolor='blue', capsize=5)\n",
    "\n",
    "plt.xticks(rotation=45, ha='right')  # 設置X軸旋轉 旋轉45度\n",
    "plt.ylabel('Mean Difference')\n",
    "plt.xlabel('Comparisons')\n",
    "plt.title('Differences of Means for Strength')\n",
    "\n",
    "plt.tight_layout()\n",
    "plt.savefig('Differences of Means(Odds ratio).png', dpi=300, bbox_inches='tight')\n",
    "plt.show()"
   ]
  },
  {
   "cell_type": "code",
   "execution_count": null,
   "id": "aeb861a2-b326-4245-89d9-4f1519062103",
   "metadata": {},
   "outputs": [],
   "source": [
    "A = list(df_with_dummies[df_with_dummies['calculate'] == 0]['odds ratio'].values)\n",
    "B = list(df_with_dummies[df_with_dummies['calculate'] == 0.5]['odds ratio'].values)\n",
    "C = list(df_with_dummies[df_with_dummies['calculate'] == 1]['odds ratio'].values)\n",
    "C = list(df_with_dummies[df_with_dummies['calculate'] == 1.5]['odds ratio'].values)\n",
    "D = list(df_with_dummies[df_with_dummies['calculate'] == 2]['odds ratio'].values)\n",
    "E = list(df_with_dummies[df_with_dummies['calculate'] == 2.5]['odds ratio'].values)\n",
    "F = list(df_with_dummies[df_with_dummies['calculate'] == 3]['odds ratio'].values)\n",
    "F = list(df_with_dummies[df_with_dummies['calculate'] == 3.5]['odds ratio'].values)"
   ]
  },
  {
   "cell_type": "code",
   "execution_count": null,
   "id": "917b18b7-fec9-4594-8a74-7f22e6b1ac63",
   "metadata": {},
   "outputs": [],
   "source": [
    "statistic, p_value = levene(B, C, D, E, F)\n",
    "print('statistic:%.2f'%statistic)\n",
    "print('p_value:%.2f'%p_value)"
   ]
  },
  {
   "cell_type": "code",
   "execution_count": null,
   "id": "323a91a8-5aea-42cb-a72c-92830b02c57a",
   "metadata": {},
   "outputs": [],
   "source": [
    "scores = B + C + D + E + F\n",
    "groups = ['B'] * len(B) + ['C'] * len(C) + ['D'] * len(D) + ['E'] * len(E) + ['F'] * len(F)  # 创建对应的班级标签\n",
    "\n",
    "data = pd.DataFrame({'組別': groups, '分數': scores})\n",
    "pg.welch_anova(dv='分數', between='組別', data=data)"
   ]
  },
  {
   "cell_type": "code",
   "execution_count": null,
   "id": "4ae59945-0c44-4b43-988b-048ae21efdc7",
   "metadata": {},
   "outputs": [],
   "source": [
    "results = pg.pairwise_gameshowell(dv='分數', between='組別', data=data)\n",
    "results"
   ]
  },
  {
   "cell_type": "code",
   "execution_count": null,
   "id": "55d1551a-36fd-4611-a1e6-ff7a9a6ea785",
   "metadata": {},
   "outputs": [],
   "source": [
    "filtered_df = results[\n",
    "    ((results['A'] == 'B') & (results['B'] == 'C')) |\n",
    "    ((results['A'] == 'C') & (results['B'] == 'D')) |\n",
    "    ((results['A'] == 'D') & (results['B'] == 'E')) |\n",
    "    ((results['A'] == 'E') & (results['B'] == 'F')) |\n",
    "    ((results['A'] == 'F') & (results['B'] == 'G')) |\n",
    "    ((results['A'] == 'G') & (results['B'] == 'H'))\n",
    "]\n",
    "filtered_df = filtered_df.sort_values(by='diff', ascending=True)\n",
    "filtered_df"
   ]
  },
  {
   "cell_type": "code",
   "execution_count": null,
   "id": "329630f6-5c0a-4bfb-a954-0402799bdd23",
   "metadata": {},
   "outputs": [],
   "source": [
    "filtered_df['diff'] = filtered_df['diff'].abs()\n",
    "filtered_df"
   ]
  },
  {
   "cell_type": "code",
   "execution_count": null,
   "id": "32594419-bacc-4fc6-ac9a-d266089cd4f0",
   "metadata": {},
   "outputs": [],
   "source": [
    "filtered_df = filtered_df.sort_values(by='diff', ascending=True)\n",
    "filtered_df"
   ]
  },
  {
   "cell_type": "code",
   "execution_count": null,
   "id": "7f19190d-85a9-4dbf-9743-4c1fc2540e10",
   "metadata": {},
   "outputs": [],
   "source": [
    "# 計算95%區間\n",
    "filtered_df['CI Low'] = filtered_df['diff'] - 1.96 * filtered_df['se']\n",
    "filtered_df['CI High'] = filtered_df['diff'] + 1.96 * filtered_df['se']\n",
    "\n",
    "# 均值差異\n",
    "comparisons = filtered_df['A'] + ' - ' + filtered_df['B']\n",
    "mean_diff = filtered_df['diff']\n",
    "ci_low = filtered_df['CI Low']\n",
    "ci_high = filtered_df['CI High']"
   ]
  },
  {
   "cell_type": "code",
   "execution_count": null,
   "id": "1fd4ce83-e1ad-4cdf-a7a0-a3f35890a3fd",
   "metadata": {},
   "outputs": [],
   "source": [
    "plt.figure(figsize=(8, 6))\n",
    "\n",
    "# 先繪製折線圖並連線\n",
    "plt.plot(comparisons, mean_diff, marker='o', linestyle='-', color='blue', label='Mean Difference')\n",
    "\n",
    "# 再繪製誤差區間\n",
    "plt.errorbar(comparisons, mean_diff, yerr=[mean_diff - ci_low, ci_high - mean_diff], fmt='o', color='blue', ecolor='blue', capsize=5)\n",
    "\n",
    "plt.xticks(rotation=45, ha='right')  # 設置X軸旋轉 旋轉45度\n",
    "plt.ylabel('Mean Difference')\n",
    "plt.xlabel('Comparisons')\n",
    "plt.title('Differences of Means for Strength')\n",
    "\n",
    "plt.tight_layout()\n",
    "plt.savefig('Differences of Means(Odds ratio).png', dpi=300, bbox_inches='tight')\n",
    "plt.show()"
   ]
  },
  {
   "cell_type": "code",
   "execution_count": null,
   "id": "9a441ea6-bd72-4688-8183-ade00ab91ccb",
   "metadata": {},
   "outputs": [],
   "source": [
    "def calculate_group(row):\n",
    "  \n",
    "    if row['calculate'] <= -3.10:\n",
    "        group = 0\n",
    "    else:\n",
    "        group = 1\n",
    "        \n",
    "    return group\n",
    "\n",
    "df_with_dummies['group'] = df_with_dummies.apply(calculate_group, axis=1)"
   ]
  },
  {
   "cell_type": "code",
   "execution_count": null,
   "id": "98b9729a-c489-4d04-8bc1-b623fd2ee542",
   "metadata": {},
   "outputs": [],
   "source": [
    "predicted_probabilities = model.predict(X_selected)\n",
    "df_with_dummies['probabilities'] = predicted_probabilities\n",
    "df_with_dummies['odds ratio'] = df_with_dummies['probabilities'] / (1 - df_with_dummies['probabilities'])\n",
    "df_with_dummies"
   ]
  },
  {
   "cell_type": "code",
   "execution_count": null,
   "id": "6237f6a5-191a-42a1-965f-428b5f5f1026",
   "metadata": {},
   "outputs": [],
   "source": [
    "from scipy.stats import levene\n",
    "\n",
    "group0 = df_with_dummies[df_with_dummies['group'] == 0]\n",
    "group1 = df_with_dummies[df_with_dummies['group'] == 1]\n",
    "\n",
    "statistic, p_value = levene(group0['probabilities'], group1['probabilities'])\n",
    "\n",
    "print(f'statistic: {statistic:.2f}')\n",
    "print(f'p_value: {p_value:.2f}')\n",
    "\n",
    "if p_value > 0.05:\n",
    "    print(\"✅ 不顯著 ➝ 使用 Tukey HSD\")\n",
    "else:\n",
    "    print(\"❗ 顯著 ➝ 使用 Welch ANOVA\")\n"
   ]
  },
  {
   "cell_type": "code",
   "execution_count": null,
   "id": "d45eb302-bf78-499f-bd44-7d7ac4ec8500",
   "metadata": {},
   "outputs": [],
   "source": [
    "from scipy.stats import ttest_ind\n",
    "\n",
    "t_stat, p_value = ttest_ind(group0['probabilities'], group1['probabilities'], equal_var=False, alternative='two-sided')\n",
    "print(f\"Welch t-test: t = {t_stat:.4f}, p = {p_value:.4f}\")\n"
   ]
  },
  {
   "cell_type": "code",
   "execution_count": null,
   "id": "c727f2ba-acc3-4412-8757-669221a8023a",
   "metadata": {},
   "outputs": [],
   "source": [
    "import seaborn as sns\n",
    "import matplotlib.pyplot as plt\n",
    "\n",
    "sns.boxplot(data=data, x='group', y='probabilities')\n",
    "sns.stripplot(data=data, x='group', y='probabilities', color='black', alpha=0.3)\n",
    "plt.title('Group Comparison of Probabilities')\n",
    "plt.show()"
   ]
  },
  {
   "cell_type": "code",
   "execution_count": null,
   "id": "e9b02aff-e0fe-434a-9d6d-2c4af2b1c759",
   "metadata": {},
   "outputs": [],
   "source": [
    "group0['probabilities'] += np.random.normal(0, 1e-10, size=group0.shape[0])"
   ]
  },
  {
   "cell_type": "code",
   "execution_count": null,
   "id": "e2a5ca77-e717-422b-afe7-cc525aa2dd18",
   "metadata": {},
   "outputs": [],
   "source": [
    "import pingouin as pg\n",
    "import pandas as pd\n",
    "\n",
    "# 建立分析用資料集\n",
    "data = pd.concat([\n",
    "    group0[['probabilities']].assign(group='low'),\n",
    "    group1[['probabilities']].assign(group='high')\n",
    "])\n",
    "\n",
    "# 執行 Welch ANOVA\n",
    "result = pg.welch_anova(dv='probabilities', between='group', data=data)\n",
    "print(result)\n"
   ]
  },
  {
   "cell_type": "code",
   "execution_count": null,
   "id": "c0fa7b08-7d40-4e08-8fa8-49e329a88572",
   "metadata": {},
   "outputs": [],
   "source": [
    "results = pg.pairwise_gameshowell(dv='probabilities', between='group', data=data)\n",
    "print(results)\n"
   ]
  },
  {
   "cell_type": "code",
   "execution_count": null,
   "id": "9d0a25fe-a985-4b7f-93f7-43b1d19c23ad",
   "metadata": {},
   "outputs": [],
   "source": [
    "from scipy.stats import ttest_ind,t\n",
    "t_statistic, p_value = ttest_ind(group0['probabilities'], group1['probabilities'], equal_var=False, alternative='two-sided')\n",
    "formatted_p_value = format(p_value, '.3f')\n",
    "\n",
    "print(f\"P value for group0 {'probabilities'} vs group1 {'probabilities'}: {formatted_p_value}\")"
   ]
  },
  {
   "cell_type": "code",
   "execution_count": null,
   "id": "68d92853-3489-4d86-b982-740d8cd88615",
   "metadata": {},
   "outputs": [],
   "source": [
    "def calculate_group(row):\n",
    "    # NHHR = (row['Total_Cholesterol'] - row['HDL'])/row['HDL']\n",
    "    \n",
    "    if row['calculate'] <= -3.10:\n",
    "        group = 0\n",
    "    else:\n",
    "        group = 1\n",
    "        \n",
    "    return group\n",
    "\n",
    "df_with_dummies['group'] = df_with_dummies.apply(calculate_group, axis=1)"
   ]
  },
  {
   "cell_type": "code",
   "execution_count": null,
   "id": "5c855007-28ec-449d-ba70-28da53b21df0",
   "metadata": {},
   "outputs": [],
   "source": [
    "import matplotlib.pyplot as plt\n",
    "\n",
    "plt.figure(figsize=(8, 10))\n",
    "\n",
    "x = sorted(df_with_dummies['group'].value_counts().index)\n",
    "\n",
    "h = []\n",
    "\n",
    "h_a1 = []\n",
    "\n",
    "for i in x:\n",
    "    total_count = df_with_dummies['group'].value_counts()[i] \n",
    "    a1_count = df_with_dummies[(df_with_dummies['group'] == i) & (df_with_dummies['Gallstones'] == 1)].shape[0]\n",
    "    h.append(total_count)\n",
    "    h_a1.append(a1_count)\n",
    "\n",
    "bars = plt.bar(x, h, width=0.05, label='Total')\n",
    "bars_a1 = plt.bar(x, h_a1, width=0.05, label='IM(1)', alpha=0.7, color='orange')\n",
    "\n",
    "for bar, a1_count in zip(bars, h_a1):\n",
    "    yval = bar.get_height()  \n",
    "    plt.text(bar.get_x() + bar.get_width() / 2, yval, f\"{int(yval)}\\n({a1_count})\", ha='center', va='bottom', fontsize=10)\n",
    "\n",
    "plt.legend(fontsize=12)\n",
    "plt.xlabel('group', fontsize=14)\n",
    "plt.ylabel('Count', fontsize=14)\n",
    "# plt.title('Total Count and adenoma == 1 Count per Calculate', fontsize=16)\n",
    "\n",
    "# 儲存圖片\n",
    "# plt.savefig('ANOVA_Smoking.png', dpi=300)\n",
    "\n",
    "# 顯示圖表\n",
    "plt.show()"
   ]
  },
  {
   "cell_type": "code",
   "execution_count": null,
   "id": "cf9c0871-9e1d-4b07-b9f8-5920818d0be2",
   "metadata": {},
   "outputs": [],
   "source": [
    "X = df_with_dummies[['calculate']]\n",
    "y = df_with_dummies[['Gallstones']]"
   ]
  },
  {
   "cell_type": "code",
   "execution_count": null,
   "id": "2b7768cd-c3c6-49aa-8b89-1febdc494b90",
   "metadata": {},
   "outputs": [],
   "source": [
    "import statsmodels.api as sm\n",
    "from sklearn.metrics import roc_curve, roc_auc_score, auc\n",
    "import matplotlib.pyplot as plt"
   ]
  },
  {
   "cell_type": "code",
   "execution_count": null,
   "id": "e6be2ec9-4e12-4ac2-a2a8-806d996e718e",
   "metadata": {},
   "outputs": [],
   "source": [
    "X = sm.add_constant(X)\n",
    "model = sm.Logit(y, X).fit()\n",
    "\n",
    "print(model.summary())\n",
    "print('-' * 80)\n",
    "\n",
    "y_pred = model.predict(X)\n",
    "\n",
    "fpr, tpr, thresholds = roc_curve(y, y_pred)\n",
    "roc_auc = roc_auc_score(y, y_pred)\n",
    "\n",
    "plt.figure()\n",
    "plt.plot(fpr, tpr, color='blue', label=f'ROC curve (AUC = {roc_auc:.2f})')\n",
    "plt.plot([0, 1], [0, 1], color='gray', linestyle='--')  # 基線\n",
    "plt.xlabel('False Positive Rate')\n",
    "plt.ylabel('True Positive Rate')\n",
    "plt.title('ROC Curve')\n",
    "plt.legend(loc=\"lower right\")\n",
    "plt.show()"
   ]
  },
  {
   "cell_type": "code",
   "execution_count": null,
   "id": "37d8d0cd-6cce-4a49-965d-1f1cc91317ec",
   "metadata": {},
   "outputs": [],
   "source": [
    "TP = len(df_with_dummies[(df_with_dummies['group'] == 1) & (df_with_dummies['Gallstones'] == 1)])\n",
    "FP = len(df_with_dummies[(df_with_dummies['group'] == 1) & (df_with_dummies['Gallstones'] == 0)])\n",
    "FN = len(df_with_dummies[(df_with_dummies['group'] == 0) & (df_with_dummies['Gallstones'] == 1)])\n",
    "TN = len(df_with_dummies[(df_with_dummies['group'] == 0) & (df_with_dummies['Gallstones'] == 0)])\n",
    "print(f'診斷得病/陽性：{TP}')\n",
    "print(f'診斷得病/陰性：{FP}')\n",
    "print(f'診斷未得病/陽性：{FN}')\n",
    "print(f'診斷未得病/陰性：{TN}')\n",
    "print('-'*40)\n",
    "#（High risk with disease）\n",
    "PPV = round(len(df_with_dummies[(df_with_dummies['group'] == 1) & (df_with_dummies['Gallstones'] == 1)])/len(df_with_dummies[(df_with_dummies['group'] == 1)]),3)\n",
    "\n",
    "#（Low risk without disease）\n",
    "NPV = round(len(df_with_dummies[(df_with_dummies['group'] == 0) & (df_with_dummies['Gallstones'] == 0)])/len(df_with_dummies[(df_with_dummies['group'] == 0)]),3)\n",
    "\n",
    "print(f'高風險有患病：{PPV}')\n",
    "print(f'低風險無患病：{NPV}')\n",
    "print('-'*40)\n",
    "prevalence = round((TP + FN)/(TP + FP + FN + TN),3)\n",
    "print(f'疾病盛行率：{prevalence}')\n",
    "print(f'沒得病機率：{1 - prevalence}')\n",
    "print('-'*40)\n",
    "print(f'如果診斷後顯示為陽性 ( 診斷得病 ) ，則此人得病的機率從{prevalence}上升為{PPV}')\n",
    "print(f'如果診斷後顯示為陰性 ( 診斷沒得病 )，則此人沒得病的機率從{1-prevalence}上升為{NPV}')"
   ]
  },
  {
   "cell_type": "code",
   "execution_count": null,
   "id": "7fb2abd5-1e2a-4482-929f-75b2a0a61bfd",
   "metadata": {},
   "outputs": [],
   "source": []
  },
  {
   "cell_type": "code",
   "execution_count": null,
   "id": "0d538efc-8d5a-401d-bfe9-50e16f1fa197",
   "metadata": {},
   "outputs": [],
   "source": []
  }
 ],
 "metadata": {
  "kernelspec": {
   "display_name": "Python 3 (ipykernel)",
   "language": "python",
   "name": "python3"
  },
  "language_info": {
   "codemirror_mode": {
    "name": "ipython",
    "version": 3
   },
   "file_extension": ".py",
   "mimetype": "text/x-python",
   "name": "python",
   "nbconvert_exporter": "python",
   "pygments_lexer": "ipython3",
   "version": "3.9.23"
  }
 },
 "nbformat": 4,
 "nbformat_minor": 5
}
